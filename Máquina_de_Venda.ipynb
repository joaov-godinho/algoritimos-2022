{
  "nbformat": 4,
  "nbformat_minor": 0,
  "metadata": {
    "colab": {
      "name": "Máquina de Venda",
      "provenance": []
    },
    "kernelspec": {
      "name": "python3",
      "display_name": "Python 3"
    },
    "language_info": {
      "name": "python"
    }
  },
  "cells": [
    {
      "cell_type": "code",
      "execution_count": null,
      "metadata": {
        "id": "oFr_0uF7BP0w"
      },
      "outputs": [],
      "source": [
        "opcoes = {\n",
        "    \"1\": \"Refrigerante de Cola\",\n",
        "    \"2\": \"Batata Frita\",\n",
        "    \"3\": \"Barra de Cereal\",\n",
        "    \"4\": \"Água\",\n",
        "    \"5\": \"Água com gás\",\n",
        "    \"6\": \"Achocolatado\",\n",
        "    \"7\": \"Bala de menta\",\n",
        "\n",
        "}\n",
        "\n",
        "status = \"AGUARDANDO\"\n",
        "\n",
        "\n",
        "\n",
        "while (status == \"AGUARDANDO\"):\n",
        "  opcao = input (\"Digite INICIAR para escolher um produto:\")\n",
        "  if (opcao != \"INICIAR\"):\n",
        "    print(\"Você Digitou uma opção inválida, o programa terminou!\")\n",
        "    status = \"FINALIZADO\"\n",
        "  else:\n",
        "    print(\"Escolha um produto: \")\n",
        "\n",
        "    for chave, valor in opcoes.items():\n",
        "      print(chave + \" = \" + valor )\n",
        "\n",
        "    print(\"ou digite CANCELAR para retornar ao começo\")\n",
        "\n",
        "\n",
        "    opcao = input(\"Digite o códico do produto: \")\n",
        "\n",
        "    if ( opcao != \"CANCELAR\"):\n",
        "      if(opcao in opcoes):\n",
        "        print(\"Você escolheu \" + opcoes[opcao])\n",
        "        confirmacao= input(\"Digite CONFIRMAR para receber o produto\")\n",
        "        if (confirmacao == \"CONFIRMAR\"):\n",
        "          print(\"Obrigado por usar nossa máquina!\")\n",
        "      else:\n",
        "        print(\"Esse produto não existe\")\n",
        "\n"
      ]
    }
  ]
}