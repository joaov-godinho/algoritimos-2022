{
  "nbformat": 4,
  "nbformat_minor": 0,
  "metadata": {
    "colab": {
      "name": "Lista 10.ipynb",
      "provenance": [],
      "collapsed_sections": []
    },
    "kernelspec": {
      "name": "python3",
      "display_name": "Python 3"
    },
    "language_info": {
      "name": "python"
    }
  },
  "cells": [
    {
      "cell_type": "code",
      "source": [
        "M = [ [0,0] , [0,0] ]\n",
        "R = [ [0,0] , [0,0] ]\n",
        "\n",
        "\n",
        "#solicitando os valores, percorrendo a matriz\n",
        "maior = -100000\n",
        "for i in range(2):\n",
        "  for j in range(2):\n",
        "    M[i][j] = int( input(\"Digite um valor:\") )\n",
        "    if (M[i][j] > maior):\n",
        "      maior = M[i][j]    \n",
        "\n",
        "# multiplicando os valores para armazenar em R\n",
        "for i in range(2):\n",
        "  for j in range(2):\n",
        "    R[i][j] = M[i][j] * maior\n",
        "\n",
        "print (M)\n",
        "print (R)"
      ],
      "metadata": {
        "id": "XFsMDb6wIGEp",
        "colab": {
          "base_uri": "https://localhost:8080/"
        },
        "outputId": "31ef6035-7d38-4d1b-ee5e-28fed2f248dc"
      },
      "execution_count": null,
      "outputs": [
        {
          "output_type": "stream",
          "name": "stdout",
          "text": [
            "Digite um valor:21\n",
            "Digite um valor:23\n",
            "Digite um valor:24\n",
            "Digite um valor:22\n",
            "[[21, 23], [24, 22]]\n",
            "[[504, 552], [576, 528]]\n"
          ]
        }
      ]
    },
    {
      "cell_type": "code",
      "execution_count": null,
      "metadata": {
        "id": "zUmshppTPZCb",
        "colab": {
          "base_uri": "https://localhost:8080/"
        },
        "outputId": "31b65169-5361-42e5-9032-02ee5e25d107"
      },
      "outputs": [
        {
          "output_type": "stream",
          "name": "stdout",
          "text": [
            "Digite a nota  0 para o aluno  0 : \n",
            "4\n",
            "Digite a nota  1 para o aluno  0 : \n",
            "6\n",
            "Digite a nota  2 para o aluno  0 : \n",
            "4\n",
            "Digite a nota  0 para o aluno  1 : \n",
            "7\n",
            "Digite a nota  1 para o aluno  1 : \n",
            "8\n",
            "Digite a nota  2 para o aluno  1 : \n",
            "2\n",
            "Digite a nota  0 para o aluno  2 : \n",
            "3\n",
            "Digite a nota  1 para o aluno  2 : \n",
            "10\n",
            "Digite a nota  2 para o aluno  2 : \n",
            "8\n",
            "Digite a nota  0 para o aluno  3 : \n",
            "7\n",
            "Digite a nota  1 para o aluno  3 : \n",
            "3\n",
            "Digite a nota  2 para o aluno  3 : \n",
            "7\n",
            "Digite a nota  0 para o aluno  4 : \n",
            "5\n",
            "Digite a nota  1 para o aluno  4 : \n",
            "8\n",
            "Digite a nota  2 para o aluno  4 : \n",
            "8\n",
            "Digite a nota  0 para o aluno  5 : \n",
            "5\n",
            "Digite a nota  1 para o aluno  5 : \n",
            "10\n",
            "Digite a nota  2 para o aluno  5 : \n",
            "3\n",
            "Digite a nota  0 para o aluno  6 : \n",
            "1\n",
            "Digite a nota  1 para o aluno  6 : \n",
            "4\n",
            "Digite a nota  2 para o aluno  6 : \n",
            "2\n",
            "Digite a nota  0 para o aluno  7 : \n",
            "6\n",
            "Digite a nota  1 para o aluno  7 : \n",
            "7\n",
            "Digite a nota  2 para o aluno  7 : \n",
            "8\n",
            "Digite a nota  0 para o aluno  8 : \n",
            "3\n",
            "Digite a nota  1 para o aluno  8 : \n",
            "3\n",
            "Digite a nota  2 para o aluno  8 : \n",
            "10\n",
            "Digite a nota  0 para o aluno  9 : \n",
            "10\n",
            "Digite a nota  1 para o aluno  9 : \n",
            "10\n",
            "Digite a nota  2 para o aluno  9 : \n",
            "10\n",
            "[[ 4.  6.  4.]\n",
            " [ 7.  8.  2.]\n",
            " [ 3. 10.  8.]\n",
            " [ 7.  3.  7.]\n",
            " [ 5.  8.  8.]\n",
            " [ 5. 10.  3.]\n",
            " [ 1.  4.  2.]\n",
            " [ 6.  7.  8.]\n",
            " [ 3.  3. 10.]\n",
            " [10. 10. 10.]]\n",
            "ALUNO  0\n",
            "MENOR NOTA NA PROVA  0 COM NOTA  4.0\n",
            "ALUNO  1\n",
            "MENOR NOTA NA PROVA  2 COM NOTA  2.0\n",
            "ALUNO  2\n",
            "MENOR NOTA NA PROVA  0 COM NOTA  3.0\n",
            "ALUNO  3\n",
            "MENOR NOTA NA PROVA  1 COM NOTA  3.0\n",
            "ALUNO  4\n",
            "MENOR NOTA NA PROVA  0 COM NOTA  5.0\n",
            "ALUNO  5\n",
            "MENOR NOTA NA PROVA  2 COM NOTA  3.0\n",
            "ALUNO  6\n",
            "MENOR NOTA NA PROVA  0 COM NOTA  1.0\n",
            "ALUNO  7\n",
            "MENOR NOTA NA PROVA  0 COM NOTA  6.0\n",
            "ALUNO  8\n",
            "MENOR NOTA NA PROVA  0 COM NOTA  3.0\n",
            "ALUNO  9\n",
            "MENOR NOTA NA PROVA  0 COM NOTA  10.0\n",
            "Alunos que tiveram menor nota na prova  0 :  7\n",
            "Alunos que tiveram menor nota na prova  1 :  1\n",
            "Alunos que tiveram menor nota na prova  2 :  2\n"
          ]
        }
      ],
      "source": [
        "import numpy as np\n",
        "import random\n",
        "\n",
        "notas = np.zeros(shape=(10,3))\n",
        "menores_notas_prova = [ 0, 0, 0 ]\n",
        "\n",
        "for numero_aluno in range(10):\n",
        "  for nota_aluno in range(3):\n",
        "    print(\"Digite a nota \", nota_aluno, \"para o aluno \", numero_aluno, \": \")\n",
        "    notas[numero_aluno][nota_aluno] = float( input() )\n",
        "\n",
        "print(notas)\n",
        "\n",
        "for numero_aluno in range(10):\n",
        "  prova = 0\n",
        "  menor = 11\n",
        "  for nota_aluno in range(3):\n",
        "    if (notas[numero_aluno][nota_aluno] < menor):      \n",
        "      menor = notas[numero_aluno][nota_aluno]\n",
        "      prova = nota_aluno\n",
        "  print(\"ALUNO \", numero_aluno)\n",
        "  print(\"MENOR NOTA NA PROVA \", prova , \"COM NOTA \", menor)\n",
        "  menores_notas_prova[prova] += 1\n",
        "\n",
        "for i in range(3):\n",
        "  print(\"Alunos que tiveram menor nota na prova \", i, \": \", menores_notas_prova[i])\n",
        "  \n"
      ]
    },
    {
      "cell_type": "code",
      "source": [
        "import random\n",
        "\n",
        "mat = [ [0]*20 ] * 10\n",
        "soma = [0]*10\n",
        "\n",
        "for i in range(0,10):\n",
        "  for j in range(0,20):\n",
        "    mat[i][j] = random.randint(1,10) #preenchi com valores aleatórios para não ter que digitar todos\n",
        "    soma[i] = soma[i] + mat[i][j]\n",
        "\n",
        "\n",
        "for i in range(0,10):\n",
        "  for j in range(0,20):\n",
        "    mat[i][j] = mat[i][j] * soma[i]\n",
        "\n",
        "for i in range(0,10):\n",
        "  for j in range(0,20):\n",
        "    print(f\"{i} - {j}:\", mat[i][j])"
      ],
      "metadata": {
        "id": "Jzfh68EpID2d"
      },
      "execution_count": null,
      "outputs": []
    }
  ]
}