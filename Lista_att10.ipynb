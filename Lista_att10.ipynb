{
  "nbformat": 4,
  "nbformat_minor": 0,
  "metadata": {
    "colab": {
      "name": "Lista 10",
      "provenance": [],
      "collapsed_sections": []
    },
    "kernelspec": {
      "name": "python3",
      "display_name": "Python 3"
    },
    "language_info": {
      "name": "python"
    }
  },
  "cells": [
    {
      "cell_type": "code",
      "execution_count": null,
      "metadata": {
        "id": "I6SvQKkgUbxA"
      },
      "outputs": [],
      "source": [
        "#questão 1\n",
        "\n",
        "from random import randint\n",
        "x=randint(0,6)\n",
        "y=randint(0,6)\n",
        "z=randint(0,6)\n",
        "k=randint(0,6)\n",
        "matriz= [[x,y],[z,k]]\n",
        "resultante= [[0,0],[0,0]]\n",
        "print(\"a primeira matriz é \", matriz)\n",
        "maior=-1\n",
        "for i in range(2):\n",
        "  for j in range(2):\n",
        "    if (matriz[i][j] > maior):\n",
        "      maior = matriz[i][j]\n",
        "for i in range(2):\n",
        "  for j in range(2):\n",
        "    resultante[i][j] = matriz[i][j] * maior\n",
        "print(\"a matriz resultante é \",resultante)"
      ]
    },
    {
      "cell_type": "code",
      "source": [
        "#questão 2\n",
        "import numpy as np\n",
        "import random\n",
        "\n",
        "notas = np.zeros((10,3))\n",
        "menorNota= [0,0,0]\n",
        "\n",
        "for aluno in range(10):\n",
        "  for notaAluno in range(3):\n",
        "    print(\"Digite a nota \", notaAluno, \"para o aluno \", aluno, \": \")\n",
        "    notas[aluno][notaAluno]= float ( input() )\n",
        "\n",
        "print(notas)\n",
        "\n",
        "for aluno in range(10):\n",
        "  numeroProva = 0\n",
        "  menor = 11\n",
        "  for notaAluno in range(3):\n",
        "    if (notas[aluno][notaAluno] < menor):      \n",
        "      menor = notas[aluno][notaAluno]\n",
        "      numeroProva = notaAluno\n",
        "  print(\"Aluno \", aluno, \" Menor nota \", menor, \"na prova\", numeroProva)\n",
        "  menorNota[numeroProva] += 1\n",
        "\n",
        "for i in range(3):\n",
        "  print(\"Número de notas mais baixas por prova \", i, \": \", menorNota[i])"
      ],
      "metadata": {
        "id": "iH--Mcfgn4nc"
      },
      "execution_count": null,
      "outputs": []
    },
    {
      "cell_type": "code",
      "source": [
        "#questão 3\n",
        "from random import randint\n",
        "matriz=[[0]*20]*10\n",
        "soma=[0]*10\n",
        "\n",
        "for i in range(0,10):\n",
        "  for j in range(0,20):\n",
        "    matriz[i][j] = randint(0,9)\n",
        "    soma[i] = soma[i] + matriz[i][j]\n",
        "\n",
        "for i in range(0,10):\n",
        "  for j in range(0,20):\n",
        "    matriz[i][j] = soma[i]* matriz[i][j]\n",
        "\n",
        "for i in range(0,10):\n",
        "  for j in range(0,20):\n",
        "    print(matriz[i][j])"
      ],
      "metadata": {
        "id": "BirKtprMiJ1K"
      },
      "execution_count": null,
      "outputs": []
    }
  ]
}