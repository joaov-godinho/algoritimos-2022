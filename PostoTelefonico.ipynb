{
  "nbformat": 4,
  "nbformat_minor": 0,
  "metadata": {
    "colab": {
      "name": "PostoTelefonico.ipynb",
      "provenance": [],
      "collapsed_sections": []
    },
    "kernelspec": {
      "name": "python3",
      "display_name": "Python 3"
    },
    "language_info": {
      "name": "python"
    }
  },
  "cells": [
    {
      "cell_type": "code",
      "source": [
        "hora_inicio = int(input(\"Digite a hora de início: \"))\n",
        "minuto_inicio = int(input(\"Digite o minuto de início: \"))\n",
        "valor_minuto = 1\n",
        "\n",
        "hora_fim = int(input(\"Digite a hora de fim: \"))\n",
        "minuto_fim = int(input(\"Digite o minuto de fim: \"))\n",
        "\n",
        "\n",
        "final = hora_fim * 60 + minuto_fim\n",
        "inicio = hora_inicio * 60 + minuto_inicio\n",
        "\n",
        "diferenca_em_minutos = final - inicio\n",
        "\n",
        "print(f\"A ligação durou {diferenca_em_minutos} minutos\")\n",
        "\n",
        "#0h ~ 9h\n",
        "desconto = 0\n",
        "if (hora_inicio >= 0 and hora_inicio <= 9):\n",
        "  if (hora_fim >= 0 and hora_fim <= 9): \n",
        "    dif = final - inicio\n",
        "    print(\"Minutos com desconto: \", dif)\n",
        "    print(\"Valor cobrado: \", dif * (valor_minuto * 0.5))\n",
        "  else:\n",
        "    normal = final - 9 * 60\n",
        "    desc = 9 * 60 - inicio\n",
        "    print(\"Minutos com desconto\", desc)\n",
        "    valor_desc = desc * (valor_minuto * 0.5)\n",
        "    print(\"Valor com desconto\", valor_desc)\n",
        "    print(\"Valor sem desconto\", normal)\n",
        "    print(\"Total da ligação\", normal + valor_desc)\n",
        "\n",
        "#9h ~ 18h\n",
        "elif (hora_inicio > 9 and hora_inicio <= 18):\n",
        "   if (hora_fim > 9 and hora_fim <= 18): \n",
        "    dif = final - inicio\n",
        "    print(\"Minutos com desconto: \", desconto)\n",
        "    print(\"Valor cobrado: \", dif * (valor_minuto))\n",
        "\n",
        "#18h ~ 21h\n",
        "elif (hora_inicio > 18 and hora_inicio <= 21):\n",
        "  desconto1 = 30\n",
        "  if (hora_fim > 18 and hora_fim <= 21): \n",
        "    dif = final - inicio\n",
        "    valorDisconto = dif * (valor_minuto * 0.3)\n",
        "    print(\"Minutos com desconto: \", dif)\n",
        "    print(\"Valor do desconto: \", valorDisconto)\n",
        "    print(\"Valor cobrado: \", (dif - valorDisconto))\n",
        "\n",
        "#21h ~ 23h59m\n",
        "elif (hora_inicio > 21 and hora_inicio <= 24):\n",
        "  desconto2 = 40\n",
        "  if (hora_fim > 21 and hora_fim <= 24): \n",
        "    dif = final - inicio\n",
        "    valorDisconto = dif * (valor_minuto * 0.4)\n",
        "    print(\"Minutos com desconto: \", dif)\n",
        "    print(\"Valor do desconto: \", valorDisconto)\n",
        "    print(\"Valor cobrado: \", (dif - valorDisconto))"
      ],
      "metadata": {
        "colab": {
          "base_uri": "https://localhost:8080/"
        },
        "id": "GB9ULfNF9miw",
        "outputId": "b7de83a9-4a45-40b9-8023-cf90125ebca9"
      },
      "execution_count": 63,
      "outputs": [
        {
          "output_type": "stream",
          "name": "stdout",
          "text": [
            "Digite a hora de início: 8\n",
            "Digite o minuto de início: 00\n",
            "Digite a hora de fim: 10\n",
            "Digite o minuto de fim: 57\n",
            "A ligação durou 177 minutos\n",
            "Minutos com desconto 60\n",
            "Valor com desconto 30.0\n",
            "Valor sem desconto 117\n",
            "Total da ligação 147.0\n"
          ]
        }
      ]
    }
  ]
}