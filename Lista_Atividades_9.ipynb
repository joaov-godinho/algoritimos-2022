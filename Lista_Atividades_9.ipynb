{
  "nbformat": 4,
  "nbformat_minor": 0,
  "metadata": {
    "colab": {
      "name": "Lista Atividades 9.ipynb",
      "provenance": [],
      "collapsed_sections": []
    },
    "kernelspec": {
      "name": "python3",
      "display_name": "Python 3"
    },
    "language_info": {
      "name": "python"
    }
  },
  "cells": [
    {
      "cell_type": "code",
      "execution_count": null,
      "metadata": {
        "id": "jsCRbPnBvwHr"
      },
      "outputs": [],
      "source": [
        "numeros = []\n",
        "\n",
        "for i in range(9):\n",
        "  num = input(\"Digite um número inteiro \")\n",
        "  numeros.append(int(num))\n",
        "\n",
        "  "
      ]
    },
    {
      "cell_type": "code",
      "source": [
        "def primo(n):\n",
        "    for val in range(2,n):\n",
        "        if n % val == 0:\n",
        "            return False\n",
        "\n",
        "    return True\n",
        "\n",
        "numeros = []\n",
        "primos = []\n",
        "posicoes = []\n",
        "\n",
        "for i in range(0,9):\n",
        "    numero  = int(input(\"Digite o número\"))\n",
        "    numeros.append(numero)\n",
        "    if (primo(numero)):\n",
        "        primos.append(numero)\n",
        "        posicoes.append(i)\n",
        "\n",
        "for j in range(0,len(primos)):\n",
        "    print(\"O número\", primos[j], ' está na posição', posicoes[j])\n",
        "    \n",
        "for primo in primos:\n",
        "    posicao = numeros.index(primo)\n",
        "    print(\"O primo \", primo, \"está na posição \", posicao)\n",
        "\n"
      ],
      "metadata": {
        "id": "sIGLE-p4wYYK"
      },
      "execution_count": null,
      "outputs": []
    },
    {
      "cell_type": "code",
      "source": [
        "def primo(n):\n",
        "    for val in range(2,n):\n",
        "        if n % val == 0:\n",
        "            return False\n",
        "    return True\n",
        "\n",
        "numeros = [7,5,3,2,6,7,8,9,10]\n",
        "primos = []\n",
        "\n",
        "for numero in numeros:\n",
        "  if (primo(numero) == True):\n",
        "    primos.append(numero)\n",
        "\n",
        "for primo in primos:\n",
        "  print(\"O número \", primo, \" é primo\")\n",
        "  posicao = numeros.index(primo)\n",
        "  print(\"Ele está na posição \", posicao)\n",
        "\n"
      ],
      "metadata": {
        "id": "2k9GJeIXzhsn"
      },
      "execution_count": null,
      "outputs": []
    },
    {
      "cell_type": "markdown",
      "source": [
        "ATIVIDADE 2"
      ],
      "metadata": {
        "id": "ig7s-Gtf7yx4"
      }
    },
    {
      "cell_type": "code",
      "source": [
        "salario_vendedor = 545\n",
        "porcentagem = 5\n",
        "objetos = [\"Copo\",\"Faca\",\"Tesoura\",\"Bombril\",\"PC\",\"Mouse\",\"Canivete\",\"Coca\",\"Pamonha\",\"Polenta\"]\n",
        "valor_unitario = []\n",
        "quantidade_vendida = []\n",
        "\n",
        "for objeto in objetos:\n",
        "  print(\"ITEM: \", objeto)\n",
        "  vlr = float(input(\"Qual o valor unitário?\"))\n",
        "  valor_unitario.append(vlr)\n",
        "  qtd = int(input(\"Qtos foram vendidos\"))\n",
        "  quantidade_vendida.append(qtd)\n",
        "\n",
        "print(\"RElatório\")\n",
        "print(\"Objeto | Qtd | Vlr Unitário | Valor Total \")\n",
        "for i in (range(0,len(objetos))):\n",
        "  print(objetos[i], \" | \", valor_unitario[i], \" | \", quantidade_vendida[i], \" | \", quantidade_vendida[i] * valor_unitario[i])"
      ],
      "metadata": {
        "colab": {
          "base_uri": "https://localhost:8080/"
        },
        "id": "IjK6zLg502pC",
        "outputId": "80188dee-13ac-41e4-e604-29d28fc59c8e"
      },
      "execution_count": null,
      "outputs": [
        {
          "output_type": "stream",
          "name": "stdout",
          "text": [
            "ITEM:  Copo\n",
            "Qual o valor unitário?1\n",
            "Qtos foram vendidos2\n",
            "ITEM:  Faca\n",
            "Qual o valor unitário?3\n",
            "Qtos foram vendidos4\n",
            "ITEM:  Tesoura\n",
            "Qual o valor unitário?5\n",
            "Qtos foram vendidos6\n",
            "ITEM:  Bombril\n",
            "Qual o valor unitário?7\n",
            "Qtos foram vendidos8\n",
            "ITEM:  PC\n",
            "Qual o valor unitário?9\n",
            "Qtos foram vendidos10\n",
            "ITEM:  Mouse\n",
            "Qual o valor unitário?11\n",
            "Qtos foram vendidos12\n",
            "ITEM:  Canivete\n",
            "Qual o valor unitário?13\n",
            "Qtos foram vendidos14\n",
            "ITEM:  Coca\n",
            "Qual o valor unitário?15\n",
            "Qtos foram vendidos16\n",
            "ITEM:  Pamonha\n",
            "Qual o valor unitário?17\n",
            "Qtos foram vendidos18\n",
            "ITEM:  Polenta\n",
            "Qual o valor unitário?19\n",
            "Qtos foram vendidos20\n",
            "RElatório\n",
            "Objeto | Qtd | Vlr Unitário | Valor Total \n",
            "Copo  |  1.0  |  2  |  2.0\n",
            "Faca  |  3.0  |  4  |  12.0\n",
            "Tesoura  |  5.0  |  6  |  30.0\n",
            "Bombril  |  7.0  |  8  |  56.0\n",
            "PC  |  9.0  |  10  |  90.0\n",
            "Mouse  |  11.0  |  12  |  132.0\n",
            "Canivete  |  13.0  |  14  |  182.0\n",
            "Coca  |  15.0  |  16  |  240.0\n",
            "Pamonha  |  17.0  |  18  |  306.0\n",
            "Polenta  |  19.0  |  20  |  380.0\n"
          ]
        }
      ]
    }
  ]
}