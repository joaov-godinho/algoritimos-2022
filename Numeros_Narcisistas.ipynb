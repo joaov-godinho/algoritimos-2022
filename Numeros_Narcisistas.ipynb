{
  "nbformat": 4,
  "nbformat_minor": 0,
  "metadata": {
    "colab": {
      "name": "Numeros Narcisistas.ipynb",
      "provenance": []
    },
    "kernelspec": {
      "name": "python3",
      "display_name": "Python 3"
    },
    "language_info": {
      "name": "python"
    }
  },
  "cells": [
    {
      "cell_type": "code",
      "execution_count": 12,
      "metadata": {
        "colab": {
          "base_uri": "https://localhost:8080/"
        },
        "id": "zVZxRWuoY2SL",
        "outputId": "68c9ee7c-8ab3-48cd-ba7a-bb702c9d20fb"
      },
      "outputs": [
        {
          "output_type": "stream",
          "name": "stdout",
          "text": [
            "Digite um número: 54\n",
            "O número não é narcisista\n"
          ]
        }
      ],
      "source": [
        "numero = int(input('Digite um número: '))\n",
        "\n",
        "def EhNarcisista(num):\n",
        "  if num in range (1,10):\n",
        "    return True\n",
        "  ordem = len(str(num))\n",
        "  sum = 0\n",
        "  original = num\n",
        "  \n",
        "  while num > 0:\n",
        "    digito = num % 10\n",
        "    sum += digito ** order\n",
        "    num = num // 10\n",
        "\n",
        "  if sum == original:\n",
        "    return True\n",
        "  return False\n",
        "\n",
        "if ehNarcisista(numero):\n",
        "  print(\"O número é narcisista\")\n",
        "else:\n",
        "  print(\"O número não é narcisista\")"
      ]
    }
  ]
}