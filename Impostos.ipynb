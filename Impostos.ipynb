{
  "nbformat": 4,
  "nbformat_minor": 0,
  "metadata": {
    "colab": {
      "name": "Impostos.ipynb",
      "provenance": [],
      "collapsed_sections": []
    },
    "kernelspec": {
      "name": "python3",
      "display_name": "Python 3"
    },
    "language_info": {
      "name": "python"
    }
  },
  "cells": [
    {
      "cell_type": "code",
      "execution_count": null,
      "metadata": {
        "id": "vYQFwoh2H2Ts"
      },
      "outputs": [],
      "source": [
        "nome = input (\"Qual é o seu nome?\\n\")\n",
        "print(\"Olá\", nome)\n",
        "\n",
        "salario = input (\"Digite o seu salário: \\n\")\n",
        "imposto = float( salario ) * 0.25\n",
        "print(imposto)"
      ]
    },
    {
      "cell_type": "code",
      "source": [
        "print(\"Qual o seu rendimento anual?\")\n",
        "\n",
        "rendimento = float(input() )\n",
        "\n",
        "if (rendimento <= 28000):\n",
        "  print(\" Voce está isento\")\n",
        "elif (rendimento > 28000 and rendimento <= 35000):\n",
        "  print(\"Você vai pagar 10%\")\n",
        "  porcentagem = 10\n",
        "else:\n",
        "  print(\"Voce vai pagar 25%\")\n",
        "  porcentagem = 25\n",
        "\n",
        "if (porcentagem > 0):\n",
        "  imposto_pagar = rendimento * (porcentagem / 100)\n",
        "  print(\"Você vai pagar\",imposto_pagar)"
      ],
      "metadata": {
        "colab": {
          "base_uri": "https://localhost:8080/"
        },
        "id": "vAwCvIK7SnP1",
        "outputId": "a2d22c7d-b07d-41c3-9b45-f3c61e59e1f7"
      },
      "execution_count": null,
      "outputs": [
        {
          "output_type": "stream",
          "name": "stdout",
          "text": [
            "Qual o seu rendimento anual?\n",
            "36000\n",
            "Voce vai pagar 25%\n",
            "Você vai pagar 9000.0\n"
          ]
        }
      ]
    }
  ]
}