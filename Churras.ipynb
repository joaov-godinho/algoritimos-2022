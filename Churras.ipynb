{
  "nbformat": 4,
  "nbformat_minor": 0,
  "metadata": {
    "colab": {
      "name": "Churras.ipynb",
      "provenance": [],
      "collapsed_sections": []
    },
    "kernelspec": {
      "name": "python3",
      "display_name": "Python 3"
    },
    "language_info": {
      "name": "python"
    }
  },
  "cells": [
    {
      "cell_type": "code",
      "execution_count": null,
      "metadata": {
        "id": "0goKCR8mV33_"
      },
      "outputs": [],
      "source": [
        "presentes = []\n",
        "bebem = []\n",
        "veganos = []\n",
        "\n",
        "controle = True\n",
        "\n",
        "while (controle == True):\n",
        "  nome = input(\"Digite o nome da pessoa: \")\n",
        "  vai = input(\"Vai no churrasco? (S ou N) \")\n",
        "  if (vai == \"S\"):\n",
        "    presentes.append(nome)\n",
        "    bebe = input(\"A pessoa bebe? (S ou N) \")\n",
        "    if (bebe == \"S\"):\n",
        "      bebem.append(nome)\n",
        "      maior_de_18 = input(\"A pessoa é maior de idade? (S ou N) \")\n",
        "      if(maior_de_18 == \"N\"):\n",
        "        bebem.remove(nome)\n",
        "\n",
        "  continuar = input(\"Quer adicionar mais pessoas? (S ou N) \")\n",
        "  if(continuar == 'S'):\n",
        "    controle = True\n",
        "  else:\n",
        "    controle = False\n",
        "\n",
        "carne= len(presentes) * 400\n",
        "refrigerante= len(bebem) * 2 \n",
        "\n",
        "print(\"Compre\", carne, \" gramas de carne e \", refrigerante, \" litros de refrigerante\")"
      ]
    },
    {
      "cell_type": "code",
      "source": [
        "for pessoa in presentes:\n",
        "  print(pessoa)"
      ],
      "metadata": {
        "id": "E8cE9yMjj8fH"
      },
      "execution_count": null,
      "outputs": []
    },
    {
      "cell_type": "code",
      "source": [
        "while(len(presentes) > 0):\n",
        "  chegou = input(\"Digite o nome de quem chegou\")\n",
        "  try:\n",
        "    presentes.remove(chegou)\n",
        "  except:\n",
        "    print(chegou, \"é um penetra\")\n",
        "    \n"
      ],
      "metadata": {
        "id": "r8Jl825RkOaO"
      },
      "execution_count": null,
      "outputs": []
    }
  ]
}